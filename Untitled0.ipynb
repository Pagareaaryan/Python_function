{
  "nbformat": 4,
  "nbformat_minor": 0,
  "metadata": {
    "colab": {
      "provenance": []
    },
    "kernelspec": {
      "name": "python3",
      "display_name": "Python 3"
    },
    "language_info": {
      "name": "python"
    }
  },
  "cells": [
    {
      "cell_type": "markdown",
      "source": [
        "1. What is the difference between a function and a method in Python?\n",
        "Answer:\n",
        "\n",
        "A function is a block of code that performs a specific task and is independent.\n",
        "\n",
        "A method is a function associated with an object or class."
      ],
      "metadata": {
        "id": "t2Lz4NI4URRS"
      }
    },
    {
      "cell_type": "code",
      "source": [
        "# Function\n",
        "def add(a, b):\n",
        "    return a + b\n",
        "\n",
        "# Method\n",
        "class Calculator:\n",
        "    def multiply(self, a, b):\n",
        "        return a * b\n"
      ],
      "metadata": {
        "id": "TB5SH4x3VQjl"
      },
      "execution_count": null,
      "outputs": []
    },
    {
      "cell_type": "markdown",
      "source": [
        "2. Explain the concept of function arguments and parameters in Python.\n",
        "Answer:\n",
        "\n",
        "Parameters are variables listed in a function definition.\n",
        "\n",
        "Arguments are the values passed to a function when calling it."
      ],
      "metadata": {
        "id": "gzZUIMspVSpI"
      }
    },
    {
      "cell_type": "code",
      "source": [
        "def greet(name):  # name is a parameter\n",
        "    return f\"Hello {name}\"\n",
        "\n",
        "greet(\"Alice\")    # \"Alice\" is an argument\n"
      ],
      "metadata": {
        "id": "00yYEPJpVVo-"
      },
      "execution_count": null,
      "outputs": []
    },
    {
      "cell_type": "markdown",
      "source": [
        "3. What are the different ways to define and call a function in Python?\n",
        "Answer:\n",
        "\n",
        "Define with def keyword.\n",
        "\n",
        "Call using function name with parentheses ()."
      ],
      "metadata": {
        "id": "E5sNiJ3DVYfC"
      }
    },
    {
      "cell_type": "code",
      "source": [
        "def greet():\n",
        "    return \"Hello\"\n",
        "\n",
        "# Calling the function\n",
        "print(greet())\n"
      ],
      "metadata": {
        "id": "loJa1mVEVZVG"
      },
      "execution_count": null,
      "outputs": []
    },
    {
      "cell_type": "markdown",
      "source": [
        "4. What is the purpose of the return statement in a Python function?\n",
        "Answer:\n",
        "\n",
        "It is used to send a result back to the caller and exit the function."
      ],
      "metadata": {
        "id": "pa3QjT8TVbFz"
      }
    },
    {
      "cell_type": "code",
      "source": [
        "def add(a, b):\n",
        "    return a + b\n",
        "\n",
        "result = add(5, 7)\n",
        "print(result)\n"
      ],
      "metadata": {
        "id": "thTbZqvjVdh9"
      },
      "execution_count": null,
      "outputs": []
    },
    {
      "cell_type": "markdown",
      "source": [
        "5. What are iterators in Python and how do they differ from iterables?\n",
        "Answer:\n",
        "\n",
        "Iterator: An object that can be iterated one element at a time.\n",
        "\n",
        "Iterable: An object capable of returning its members (e.g., list, tuple)."
      ],
      "metadata": {
        "id": "OATCRcBJVgPR"
      }
    },
    {
      "cell_type": "code",
      "source": [
        "my_list = [1, 2, 3]\n",
        "iterator = iter(my_list)\n",
        "\n",
        "print(next(iterator))  # 1\n",
        "print(next(iterator))  # 2\n"
      ],
      "metadata": {
        "id": "y64sEC_DVldl"
      },
      "execution_count": null,
      "outputs": []
    },
    {
      "cell_type": "markdown",
      "source": [
        "6. Explain the concept of generators in Python and how they are defined.\n",
        "Answer:\n",
        "\n",
        "A generator produces items lazily using yield instead of return."
      ],
      "metadata": {
        "id": "GjDsrUajVm-2"
      }
    },
    {
      "cell_type": "code",
      "source": [
        "def countdown(n):\n",
        "    while n > 0:\n",
        "        yield n\n",
        "        n -= 1\n",
        "\n",
        "for num in countdown(3):\n",
        "    print(num)\n"
      ],
      "metadata": {
        "id": "KxkM6avBVo4C"
      },
      "execution_count": null,
      "outputs": []
    },
    {
      "cell_type": "markdown",
      "source": [
        "7. What are the advantages of using generators over regular functions?\n",
        "Answer:\n",
        "\n",
        "Saves memory.\n",
        "\n",
        "Lazy evaluation (computes value only when needed)."
      ],
      "metadata": {
        "id": "29fwgrWSVqPC"
      }
    },
    {
      "cell_type": "code",
      "source": [
        "# Regular function would load entire list in memory\n",
        "# Generator computes on the fly\n"
      ],
      "metadata": {
        "id": "FdKdlBNmVsGv"
      },
      "execution_count": null,
      "outputs": []
    },
    {
      "cell_type": "markdown",
      "source": [
        "8. What is a lambda function in Python and when is it typically used?\n",
        "Answer:\n",
        "\n",
        "Lambda is an anonymous, one-line function, used when a small function is needed temporarily."
      ],
      "metadata": {
        "id": "VSPm-rzqVtgk"
      }
    },
    {
      "cell_type": "code",
      "source": [
        "add = lambda x, y: x + y\n",
        "print(add(3, 5))  # 8\n"
      ],
      "metadata": {
        "id": "r5ONEL9-Vvuv"
      },
      "execution_count": null,
      "outputs": []
    },
    {
      "cell_type": "markdown",
      "source": [
        "9. Explain the purpose and usage of the map() function in Python.\n",
        "Answer:\n",
        "\n",
        "Applies a given function to all items in an iterable."
      ],
      "metadata": {
        "id": "ueSq044xVx-P"
      }
    },
    {
      "cell_type": "code",
      "source": [
        "nums = [1, 2, 3, 4]\n",
        "squared = list(map(lambda x: x**2, nums))\n",
        "print(squared)  # [1, 4, 9, 16]\n"
      ],
      "metadata": {
        "id": "5MJsqr3aV006"
      },
      "execution_count": null,
      "outputs": []
    },
    {
      "cell_type": "markdown",
      "source": [
        "10. What is the difference between map(), reduce(), and filter() functions in Python?\n",
        "Answer:\n",
        "\n",
        "map(): Applies a function to all items.\n",
        "\n",
        "filter(): Selects items based on a condition.\n",
        "\n",
        "reduce(): Reduces all items to a single value."
      ],
      "metadata": {
        "id": "PlnpRMMzV2EQ"
      }
    },
    {
      "cell_type": "code",
      "source": [
        "from functools import reduce\n",
        "\n",
        "nums = [1, 2, 3, 4]\n",
        "\n",
        "# map\n",
        "squared = list(map(lambda x: x**2, nums))\n",
        "\n",
        "# filter\n",
        "even = list(filter(lambda x: x % 2 == 0, nums))\n",
        "\n",
        "# reduce\n",
        "sum_all = reduce(lambda x, y: x + y, nums)\n",
        "\n",
        "print(squared, even, sum_all)\n"
      ],
      "metadata": {
        "id": "kndk_d4RV3_G"
      },
      "execution_count": null,
      "outputs": []
    },
    {
      "cell_type": "code",
      "source": [
        "# 1. Write a Python function that takes a list of numbers as input and returns the sum of all even numbers.\n",
        "def sum_even_numbers(numbers):\n",
        "    return sum(num for num in numbers if num % 2 == 0)\n",
        "\n",
        "# Example usage\n",
        "print(sum_even_numbers([1, 2, 3, 4, 5, 6]))  # Output: 12\n"
      ],
      "metadata": {
        "colab": {
          "base_uri": "https://localhost:8080/"
        },
        "id": "ieJXQuefWGrF",
        "outputId": "defba0e8-01d9-4614-c472-1dab1edb1ed6"
      },
      "execution_count": 1,
      "outputs": [
        {
          "output_type": "stream",
          "name": "stdout",
          "text": [
            "12\n"
          ]
        }
      ]
    },
    {
      "cell_type": "code",
      "source": [
        "# 2. Create a Python function that accepts a string and returns the reverse of that string.\n",
        "def reverse_string(s):\n",
        "    return s[::-1]\n",
        "\n",
        "# Example usage\n",
        "print(reverse_string(\"hello\"))  # Output: \"olleh\"\n"
      ],
      "metadata": {
        "colab": {
          "base_uri": "https://localhost:8080/"
        },
        "id": "mz4OWbUlWHUE",
        "outputId": "6ba6e180-5c33-4d40-e5a1-aee4d1d66d93"
      },
      "execution_count": 2,
      "outputs": [
        {
          "output_type": "stream",
          "name": "stdout",
          "text": [
            "olleh\n"
          ]
        }
      ]
    },
    {
      "cell_type": "code",
      "source": [
        "# 3. Implement a Python function that takes a list of integers and returns a new list containing the squares of each number.\n",
        "def square_numbers(numbers):\n",
        "    return [num ** 2 for num in numbers]\n",
        "\n",
        "# Example usage\n",
        "print(square_numbers([1, 2, 3, 4]))  # Output: [1, 4, 9, 16]\n"
      ],
      "metadata": {
        "colab": {
          "base_uri": "https://localhost:8080/"
        },
        "id": "pOdss46gWIw8",
        "outputId": "3ef6fe77-769b-42ac-c32b-7a3a0d7651cc"
      },
      "execution_count": 3,
      "outputs": [
        {
          "output_type": "stream",
          "name": "stdout",
          "text": [
            "[1, 4, 9, 16]\n"
          ]
        }
      ]
    },
    {
      "cell_type": "code",
      "source": [
        "# 4. Write a Python function that checks if a given number is prime or not from 1 to 200.\n",
        "def is_prime(n):\n",
        "    if n <= 1:\n",
        "        return False\n",
        "    for i in range(2, int(n**0.5) + 1):\n",
        "        if n % i == 0:\n",
        "            return False\n",
        "    return True\n",
        "\n",
        "# Example usage\n",
        "for num in range(1, 201):\n",
        "    if is_prime(num):\n",
        "        print(num, end=\" \")\n"
      ],
      "metadata": {
        "colab": {
          "base_uri": "https://localhost:8080/"
        },
        "id": "Sre6mP7XWLWH",
        "outputId": "25551815-3206-4fe7-b1fd-61a804068328"
      },
      "execution_count": 4,
      "outputs": [
        {
          "output_type": "stream",
          "name": "stdout",
          "text": [
            "2 3 5 7 11 13 17 19 23 29 31 37 41 43 47 53 59 61 67 71 73 79 83 89 97 101 103 107 109 113 127 131 137 139 149 151 157 163 167 173 179 181 191 193 197 199 "
          ]
        }
      ]
    },
    {
      "cell_type": "code",
      "source": [
        "# 5. Create an iterator class in Python that generates the Fibonacci sequence up to a specified number of terms.\n",
        "class FibonacciIterator:\n",
        "    def __init__(self, terms):\n",
        "        self.terms = terms\n",
        "        self.a, self.b = 0, 1\n",
        "        self.count = 0\n",
        "\n",
        "    def __iter__(self):\n",
        "        return self\n",
        "\n",
        "    def __next__(self):\n",
        "        if self.count >= self.terms:\n",
        "            raise StopIteration\n",
        "        if self.count == 0:\n",
        "            self.count += 1\n",
        "            return 0\n",
        "        elif self.count == 1:\n",
        "            self.count += 1\n",
        "            return 1\n",
        "        else:\n",
        "            self.a, self.b = self.b, self.a + self.b\n",
        "            self.count += 1\n",
        "            return self.b\n",
        "\n",
        "# Example usage\n",
        "fib = FibonacciIterator(10)\n",
        "for num in fib:\n",
        "    print(num, end=\" \")\n"
      ],
      "metadata": {
        "colab": {
          "base_uri": "https://localhost:8080/"
        },
        "id": "fkMuFGT1WMww",
        "outputId": "71a93eb3-8e5e-4928-a570-00e0a4b02662"
      },
      "execution_count": 5,
      "outputs": [
        {
          "output_type": "stream",
          "name": "stdout",
          "text": [
            "0 1 1 2 3 5 8 13 21 34 "
          ]
        }
      ]
    },
    {
      "cell_type": "code",
      "source": [
        "# 6. Write a generator function in Python that yields the powers of 2 up to a given exponent.\n",
        "def powers_of_two(max_exponent):\n",
        "    for exp in range(max_exponent + 1):\n",
        "        yield 2 ** exp\n",
        "\n",
        "# Example usage\n",
        "for power in powers_of_two(5):\n",
        "    print(power)\n"
      ],
      "metadata": {
        "colab": {
          "base_uri": "https://localhost:8080/"
        },
        "id": "_3bufeepWOQr",
        "outputId": "cc2238db-8926-47fe-846e-992a43cf7dde"
      },
      "execution_count": 6,
      "outputs": [
        {
          "output_type": "stream",
          "name": "stdout",
          "text": [
            "1\n",
            "2\n",
            "4\n",
            "8\n",
            "16\n",
            "32\n"
          ]
        }
      ]
    },
    {
      "cell_type": "code",
      "source": [
        "# 7. Implement a generator function that reads a file line by line and yields each line as a string.\n",
        "def read_file_line_by_line(file_path):\n",
        "    with open(file_path, 'r') as file:\n",
        "        for line in file:\n",
        "            yield line.strip()\n",
        "\n",
        "# Example usage\n",
        "# for line in read_file_line_by_line('sample.txt'):\n",
        "#     print(line)\n"
      ],
      "metadata": {
        "id": "Fmum8_1uWPzA"
      },
      "execution_count": 7,
      "outputs": []
    },
    {
      "cell_type": "code",
      "source": [
        "# 8. Use a lambda function in Python to sort a list of tuples based on the second element of each tuple.\n",
        "data = [(1, 3), (2, 1), (4, 2)]\n",
        "sorted_data = sorted(data, key=lambda x: x[1])\n",
        "\n",
        "print(sorted_data)  # Output: [(2, 1), (4, 2), (1, 3)]\n"
      ],
      "metadata": {
        "colab": {
          "base_uri": "https://localhost:8080/"
        },
        "id": "HyY661p2WRM2",
        "outputId": "8c8ea64f-7726-41d5-a2bf-debf6993b6d3"
      },
      "execution_count": 8,
      "outputs": [
        {
          "output_type": "stream",
          "name": "stdout",
          "text": [
            "[(2, 1), (4, 2), (1, 3)]\n"
          ]
        }
      ]
    },
    {
      "cell_type": "code",
      "source": [
        "# 9. Write a Python program that uses map() to convert a list of temperatures from Celsius to Fahrenheit.\n",
        "celsius = [0, 10, 20, 30]\n",
        "fahrenheit = list(map(lambda c: (c * 9/5) + 32, celsius))\n",
        "\n",
        "print(fahrenheit)  # Output: [32.0, 50.0, 68.0, 86.0]\n"
      ],
      "metadata": {
        "colab": {
          "base_uri": "https://localhost:8080/"
        },
        "id": "OpcyWB0CWSv7",
        "outputId": "af0eceee-3142-40b7-9b0d-76edeb1c9948"
      },
      "execution_count": 9,
      "outputs": [
        {
          "output_type": "stream",
          "name": "stdout",
          "text": [
            "[32.0, 50.0, 68.0, 86.0]\n"
          ]
        }
      ]
    },
    {
      "cell_type": "code",
      "source": [
        "# 10. Create a Python program that uses filter() to remove all the vowels from a given string.\n",
        "def remove_vowels(string):\n",
        "    vowels = 'aeiouAEIOU'\n",
        "    return ''.join(filter(lambda char: char not in vowels, string))\n",
        "\n",
        "# Example usage\n",
        "print(remove_vowels(\"Hello World\"))  # Output: \"Hll Wrld\"\n"
      ],
      "metadata": {
        "colab": {
          "base_uri": "https://localhost:8080/"
        },
        "id": "KV9DQNeaWUHz",
        "outputId": "77c68af8-0e4b-4e47-aa79-72f9b5788524"
      },
      "execution_count": 10,
      "outputs": [
        {
          "output_type": "stream",
          "name": "stdout",
          "text": [
            "Hll Wrld\n"
          ]
        }
      ]
    },
    {
      "cell_type": "code",
      "source": [
        "# 11. Imagine an accounting routine used in a book shop.\n",
        "# It works on a list with sublists of [order_number, item_name, quantity, price_per_item].\n",
        "# Write a Python program which returns a list with 2-tuples: (order_number, total_price).\n",
        "# Increase total price by 10 if it's less than 100.\n",
        "\n",
        "orders = [\n",
        "    [34587, \"Learning Python\", 4, 40.95],\n",
        "    [98762, \"Programming Python\", 5, 56.80],\n",
        "    [77226, \"Head First Python\", 3, 32.95],\n",
        "    [88112, \"Einführung in Python3\", 3, 24.99]\n",
        "]\n",
        "\n",
        "final_orders = list(map(lambda order: (order[0], order[2] * order[3] if order[2]*order[3] >= 100 else order[2]*order[3] + 10), orders))\n",
        "\n",
        "print(final_orders)\n",
        "# Output: [(34587, 173.8), (98762, 284.0), (77226, 108.85), (88112, 84.97)]\n"
      ],
      "metadata": {
        "colab": {
          "base_uri": "https://localhost:8080/"
        },
        "id": "cHakdfR3WWcN",
        "outputId": "1a08e64d-9eee-4b55-b31d-38c8426df0da"
      },
      "execution_count": 11,
      "outputs": [
        {
          "output_type": "stream",
          "name": "stdout",
          "text": [
            "[(34587, 163.8), (98762, 284.0), (77226, 108.85000000000001), (88112, 84.97)]\n"
          ]
        }
      ]
    }
  ]
}